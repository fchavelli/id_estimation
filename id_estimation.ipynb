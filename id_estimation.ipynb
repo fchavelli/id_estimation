{
 "cells": [
  {
   "cell_type": "markdown",
   "id": "a2ec338e",
   "metadata": {},
   "source": [
    "# Intrinsic Dimension Estimators for Uncovering the Phase Space Dimensionality of Dynamical Systems"
   ]
  },
  {
   "cell_type": "markdown",
   "id": "ce65f9f8",
   "metadata": {},
   "source": [
    "We compare the following eight intrinsic dimension estimators:\n",
    "- Grassberger and Procaccia's Correlation Integral (`CorrInt`)\n",
    "- Farahmand et al.'s Manifold-Adaptive Dimension estimation Algorithm (`MADA`)\n",
    "- Levina and Bickel's and Haro et al.'s maximum likelihood-based estimators (`Levina_Bickel` and `MLE`)\n",
    "- Rozza et al.'s Minimum Neighbour Distance-Maximum Likelihood estimators (`MiND_ML`)\n",
    "- Facco et al.'s Two-Nearest Neighbour estimator (`TwoNN`)\n",
    "- Amsaleg et al.'s method of moments estimator (`MOM`)\n",
    "- Hein and Audibert's U-statistic-based estimator (`Hein`)"
   ]
  },
  {
   "cell_type": "markdown",
   "id": "bef6de19",
   "metadata": {},
   "source": [
    "Requirements include `MATLAB`/`matlab.engine` and `sklearn`,`skdim`"
   ]
  },
  {
   "cell_type": "code",
   "execution_count": 5,
   "id": "deebb548",
   "metadata": {},
   "outputs": [],
   "source": [
    "import skdim\n",
    "import numpy as np\n",
    "import pandas as pd\n",
    "import matplotlib.pyplot as plt\n",
    "\n",
    "import os\n",
    "import matlab.engine\n",
    "\n",
    "from sklearn.neighbors import NearestNeighbors"
   ]
  },
  {
   "cell_type": "markdown",
   "id": "ba279b2c",
   "metadata": {},
   "source": [
    "### Load files"
   ]
  },
  {
   "cell_type": "markdown",
   "id": "2439a3e4",
   "metadata": {},
   "source": [
    "Files should be stored as `.npy` files in a `latent` folder as `./latent/system_name_root_number.npy`"
   ]
  },
  {
   "cell_type": "code",
   "execution_count": 6,
   "id": "9daf1ef2",
   "metadata": {},
   "outputs": [],
   "source": [
    "def file_loader(system, root):\n",
    "    path = './latent/' + system + '_' + str(root) + '.npy' \n",
    "    return np.load(path)"
   ]
  },
  {
   "cell_type": "markdown",
   "id": "2d03d071",
   "metadata": {},
   "source": [
    "### ID estimator\n",
    "From Boyuan Chen et al. : https://github.com/BoyuanChen/neural-state-variables/tree/main/analysis"
   ]
  },
  {
   "cell_type": "code",
   "execution_count": 7,
   "id": "cf23a188",
   "metadata": {},
   "outputs": [],
   "source": [
    "class ID_Estimator:\n",
    "    def __init__(self, method='Levina_Bickel'):\n",
    "        self.all_methods = ['Levina_Bickel', 'MiND_ML', 'MiND_KL', 'Hein', 'CD']\n",
    "        self.set_method(method)\n",
    "    \n",
    "    def set_method(self, method='Levina_Bickel'):\n",
    "        if method not in self.all_methods:\n",
    "            assert False, 'Unknown method!'\n",
    "        else:\n",
    "            self.method = method\n",
    "        \n",
    "    def fit(self, X, k_list=20, n_jobs=4):\n",
    "        if self.method in ['Hein', 'CD']:\n",
    "            dim_Hein, dim_CD = Hein_CD(X)\n",
    "            return dim_Hein if self.method=='Hein' else dim_CD\n",
    "        else:\n",
    "            if np.isscalar(k_list):\n",
    "                k_list = np.array([k_list])\n",
    "            else:\n",
    "                k_list = np.array(k_list)\n",
    "            kmax = np.max(k_list) + 2\n",
    "            dists, inds = kNN(X, kmax, n_jobs)\n",
    "            dims = []\n",
    "            for k in k_list:\n",
    "                if self.method == 'Levina_Bickel':\n",
    "                    dims.append(Levina_Bickel(X, dists, k))\n",
    "                elif self.method == 'MiND_ML':\n",
    "                    dims.append(MiND_ML(X, dists, k))\n",
    "                elif self.method == 'MiND_KL':\n",
    "                    dims.append(MiND_KL(X, dists, k))\n",
    "                else:\n",
    "                    pass\n",
    "            if len(dims) == 1:\n",
    "                return dims[0]\n",
    "            else:\n",
    "                return np.array(dims)\n",
    "    \n",
    "    def fit_all_methods(self, X, k_list=[20], n_jobs=4):\n",
    "        k_list = np.array(k_list)\n",
    "        kmax = np.max(k_list) + 2\n",
    "        dists, inds = kNN(X, kmax, n_jobs)\n",
    "        dim_all_methods = {method:[] for method in self.all_methods}\n",
    "        dim_all_methods['Hein'], dim_all_methods['CD'] = Hein_CD(X)\n",
    "        for k in k_list:\n",
    "            dim_all_methods['Levina_Bickel'].append(Levina_Bickel(X, dists, k))\n",
    "            dim_all_methods['MiND_ML'].append(MiND_ML(X, dists, k))\n",
    "            dim_all_methods['MiND_KL'].append(MiND_KL(X, dists, k))\n",
    "        for method in self.all_methods:\n",
    "            dim_all_methods[method] = np.array(dim_all_methods[method])\n",
    "        return dim_all_methods"
   ]
  },
  {
   "cell_type": "markdown",
   "id": "37296123",
   "metadata": {},
   "source": [
    "### Methods\n",
    "From Boyuan Chen et al. : https://github.com/BoyuanChen/neural-state-variables/tree/main/analysis"
   ]
  },
  {
   "cell_type": "code",
   "execution_count": 8,
   "id": "c930ca46",
   "metadata": {},
   "outputs": [],
   "source": [
    "def kNN(X, n_neighbors, n_jobs):\n",
    "    neigh = NearestNeighbors(n_neighbors=n_neighbors, n_jobs=n_jobs).fit(X)\n",
    "    dists, inds = neigh.kneighbors(X)\n",
    "    return dists, inds\n",
    "\n",
    "\n",
    "def Levina_Bickel(X, dists, k):\n",
    "    m = np.log(dists[:, k:k+1] / dists[:, 1:k])\n",
    "    m = (k-2) / np.sum(m, axis=1)\n",
    "    dim = np.mean(m)\n",
    "    return dim\n",
    "\n",
    "\n",
    "def start_matlab_engine():\n",
    "    import matlab.engine\n",
    "    eng = matlab.engine.start_matlab()\n",
    "    #eng.addpath(os.path.join(os.path.split(__file__)[0], 'matlab_codes'))\n",
    "    return eng\n",
    "\n",
    "\n",
    "def MiND_ML(X, dists, k):\n",
    "    import matlab.engine\n",
    "    eng = start_matlab_engine()\n",
    "    X_mat = matlab.double(X.T.tolist())\n",
    "    dists_mat = matlab.double(dists[:, :k+2].tolist())\n",
    "    dim = eng.MiND_ML(X_mat, 'dists', dists_mat, 'normalized', False, 'optimize', True)\n",
    "    return dim\n",
    "\n",
    "\n",
    "def MiND_KL(X, dists, k, maxDim=30):\n",
    "    import matlab.engine\n",
    "    eng = start_matlab_engine()\n",
    "    X_mat = matlab.double(X.T.tolist())\n",
    "    dists_mat = matlab.double(dists[:, :k+2].tolist())\n",
    "    dim = eng.MiND_KL(X_mat, 'k', matlab.double([k]), 'maxDim', matlab.double([maxDim]), 'dists', dists_mat, 'normalized', False, nargout=1)\n",
    "    return dim\n",
    "\n",
    "\n",
    "def DANCo(X, dists, inds, k, maxDim=30):\n",
    "    import matlab.engine\n",
    "    eng = start_matlab_engine()\n",
    "    X_mat = matlab.double(X.T.tolist())\n",
    "    dists_mat = matlab.double(dists[:, :k+2].tolist())\n",
    "    inds_mat = matlab.int32((inds[:, :k+2]+1).tolist())  # fit Matlab indices\n",
    "    dim = eng.DANCo(X_mat, 'k', matlab.double([k]), 'maxDim', matlab.double([maxDim]), 'fractal', True, 'dists', dists_mat, 'inds', inds_mat, 'normalized', False, nargout=1)\n",
    "    return dim\n",
    "\n",
    "\n",
    "def Hein_CD(X):\n",
    "    import matlab.engine\n",
    "    eng = start_matlab_engine()\n",
    "    X_mat = matlab.double(X.T.tolist())\n",
    "    dim = eng.GetDim(X_mat, nargout=1)\n",
    "    dim = np.array(dim)[0]\n",
    "    return dim[0], dim[1]"
   ]
  },
  {
   "cell_type": "markdown",
   "id": "79eab73f",
   "metadata": {},
   "source": [
    "### Estimators `Levina_Bickel`, `Hein`\n",
    "From Boyuan Chen et al. : https://github.com/BoyuanChen/neural-state-variables/tree/main/analysis"
   ]
  },
  {
   "cell_type": "code",
   "execution_count": null,
   "id": "0ca0fe98",
   "metadata": {},
   "outputs": [],
   "source": [
    "# Systems: reaction_diffusion, single_pendulum, double_pendulum, swingstick_non_magnetic, elastic_pendulum\n",
    "# Methods: Levina_Bickel, Hein\n",
    "\n",
    "system = 'single_pendulum'\n",
    "method = 'Levina_Bickel'\n",
    "\n",
    "estimator = ID_Estimator(method=method)\n",
    "\n",
    "mean = 0\n",
    "\n",
    "for root in [1,2,3]:\n",
    "    latent = file_loader(system=system, root=root)\n",
    "    # Neighbors list as in original code/paper\n",
    "    k_list = (latent.shape[0] * np.linspace(0.008, 0.016, 5)).astype('int')\n",
    "    estimation = np.mean(estimator.fit(latent, k_list))\n",
    "    mean += estimation\n",
    "print(system, method, round(mean/3., 2))"
   ]
  },
  {
   "cell_type": "markdown",
   "id": "025341c2",
   "metadata": {},
   "source": [
    "### Estimators `MiND_ML`, `MLE`, `TwoNN`, `MADA`, `MOM`, `CorrInt`"
   ]
  },
  {
   "cell_type": "code",
   "execution_count": null,
   "id": "cefe9f0b",
   "metadata": {},
   "outputs": [],
   "source": [
    "# Systems: reaction_diffusion, single_pendulum, double_pendulum, swingstick_non_magnetic, elastic_pendulum\n",
    "# Methods: skdim.id.MiND_ML(), skdim.id.MLE(), skdim.id.TwoNN(), skdim.id.MADA(), skdim.id.MOM(), skdim.id.CorrInt()\n",
    "\n",
    "system = 'single_pendulum'\n",
    "method = skdim.id.MLE()\n",
    "\n",
    "mean = 0\n",
    "for root in [1,2,3]:\n",
    "    latent = file_loader(system=system, root=root)\n",
    "    method_fited = method.fit(latent)\n",
    "    mean += method_fited.dimension_\n",
    "print(system, method, round(mean/3., 2))"
   ]
  }
 ],
 "metadata": {
  "kernelspec": {
   "display_name": "Python 3",
   "language": "python",
   "name": "python3"
  },
  "language_info": {
   "codemirror_mode": {
    "name": "ipython",
    "version": 3
   },
   "file_extension": ".py",
   "mimetype": "text/x-python",
   "name": "python",
   "nbconvert_exporter": "python",
   "pygments_lexer": "ipython3",
   "version": "3.8.8"
  }
 },
 "nbformat": 4,
 "nbformat_minor": 5
}
